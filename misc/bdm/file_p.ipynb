{
 "cells": [
  {
   "cell_type": "code",
   "execution_count": 253,
   "metadata": {
    "scrolled": true
   },
   "outputs": [
    {
     "data": {
      "text/plain": [
       "'72 38 CF 00 DF 4F CD 00 FF C9 38 00 F6 79 36 00 01 00 00 00 04 ED 33 01 21 01 00 00 FF 33 22 11 00 00 00 00 00 00 00 00'"
      ]
     },
     "execution_count": 253,
     "metadata": {},
     "output_type": "execute_result"
    }
   ],
   "source": [
    "import struct, hexdump, zlib\n",
    "\n",
    "contents = open('/tmp/811/offline/289/289.p', 'rb').read()\n",
    "h1 = contents[0:0x28]\n",
    "h2 = contents[0x28:0x28+0x18]\n",
    "hexdump.dump(h1)"
   ]
  },
  {
   "cell_type": "code",
   "execution_count": 7,
   "metadata": {},
   "outputs": [
    {
     "data": {
      "text/plain": [
       "'FF 33 22 11 00 00 00 00 00 00 00 00'"
      ]
     },
     "execution_count": 7,
     "metadata": {},
     "output_type": "execute_result"
    }
   ],
   "source": [
    "hexdump.dump(h1[28:])"
   ]
  },
  {
   "cell_type": "code",
   "execution_count": 8,
   "metadata": {},
   "outputs": [
    {
     "data": {
      "text/plain": [
       "((187061, 48080), (11251332, 294906))"
      ]
     },
     "execution_count": 8,
     "metadata": {},
     "output_type": "execute_result"
    }
   ],
   "source": [
    "struct.unpack('ii', h2[16:24]),struct.unpack('ii', h2[8:16])"
   ]
  },
  {
   "cell_type": "code",
   "execution_count": 9,
   "metadata": {},
   "outputs": [
    {
     "data": {
      "text/plain": [
       "(11438393, 11438393)"
      ]
     },
     "execution_count": 9,
     "metadata": {},
     "output_type": "execute_result"
    }
   ],
   "source": [
    "187061+11251332,len(contents)"
   ]
  },
  {
   "cell_type": "code",
   "execution_count": 4,
   "metadata": {},
   "outputs": [
    {
     "data": {
      "text/plain": [
       "294906"
      ]
     },
     "execution_count": 4,
     "metadata": {},
     "output_type": "execute_result"
    }
   ],
   "source": [
    "tail = contents[11251332:]\n",
    "tail_unpacked = zlib.decompress(tail)\n",
    "len(tail_unpacked)"
   ]
  },
  {
   "cell_type": "code",
   "execution_count": 20,
   "metadata": {},
   "outputs": [
    {
     "data": {
      "text/plain": [
       "6.13365224625624"
      ]
     },
     "execution_count": 20,
     "metadata": {},
     "output_type": "execute_result"
    }
   ],
   "source": [
    "294906/48080.0"
   ]
  },
  {
   "cell_type": "code",
   "execution_count": 17,
   "metadata": {},
   "outputs": [
    {
     "data": {
      "text/plain": [
       "b'\\x03\\x01\\x01\\x04\\x01\\x01\\x02\\x01\\x01\\x02'"
      ]
     },
     "execution_count": 17,
     "metadata": {},
     "output_type": "execute_result"
    }
   ],
   "source": [
    "tail_unpacked[:10]"
   ]
  },
  {
   "cell_type": "code",
   "execution_count": 21,
   "metadata": {},
   "outputs": [
    {
     "data": {
      "text/plain": [
       "b'\\x01\\x01\\x01\\x01\\x01\\x01\\x01\\x01\\x01\\x01\\nNwm\\x02^\\xf7S\\xef\\x8dfm\\x1cN\\xb0e:S-\\x00\\x04_\\nNwm(\\x00)\\x00D\\x96\\xd1\\x8f|ilQ\\xef\\x8dlQ\\xf8S\\xf5\\x95L\\x88:SQgb^1\\x00~g_l:S\\x9d[q\\\\:S\\tgP\\x96WS\\xef\\x8d\\tV\\x9a[:S\\x0f\\\\:S\\x90_Gl:SY\\x97\\x89[:S-N'"
      ]
     },
     "execution_count": 21,
     "metadata": {},
     "output_type": "execute_result"
    }
   ],
   "source": [
    "p = 48080 \n",
    "tail_unpacked[p-10:p+100]"
   ]
  },
  {
   "cell_type": "code",
   "execution_count": 5,
   "metadata": {},
   "outputs": [
    {
     "data": {
      "text/plain": [
       "(123413,\n",
       " '醋釉释銮錦鍋鎮鏖钊钐钒钝钠钤钨钬钺铄铅铋铍铠铣铪锂锘错锣锲镀镏镓镔闩闫闷闹闿阖阡阺阻险陸隈隊隍障隹隼雾霭靨頣顽颉颊颍飚飨館饪饶饿馋馍驯驷骠骥骧髙魁魄魚鱿鲇鲲鲸鳃鳞鳯鸶鸾鹄鹮鹾麈麝黃黇！＄１２５＜＞［］')"
      ]
     },
     "execution_count": 5,
     "metadata": {},
     "output_type": "execute_result"
    }
   ],
   "source": [
    "d = tail_unpacked[48080:].decode('utf-16')\n",
    "len(d),d[-100:]"
   ]
  },
  {
   "cell_type": "code",
   "execution_count": 6,
   "metadata": {},
   "outputs": [
    {
     "data": {
      "text/plain": [
       "3"
      ]
     },
     "execution_count": 6,
     "metadata": {},
     "output_type": "execute_result"
    }
   ],
   "source": [
    "tail_unpacked[0x1b5]"
   ]
  },
  {
   "cell_type": "code",
   "execution_count": 7,
   "metadata": {
    "scrolled": true
   },
   "outputs": [
    {
     "data": {
      "text/plain": [
       "('技', 123413)"
      ]
     },
     "execution_count": 7,
     "metadata": {},
     "output_type": "execute_result"
    }
   ],
   "source": [
    "d[0x1b5*1],len(d)"
   ]
  },
  {
   "cell_type": "code",
   "execution_count": 329,
   "metadata": {},
   "outputs": [],
   "source": [
    "class PFile(object):\n",
    "    def __init__(self, file_path):\n",
    "        contents = open(file_path, 'rb').read()\n",
    "        h2 = contents[0x28:0x28+0x18]\n",
    "        self.base_x, self.base_y, tail_pos, unpacked_len, packed_len, dicts_pos = struct.unpack('iiiiii', h2[:24])\n",
    "#         self.a1_24, self.a1_28 = struct.unpack('ii', h2[:8])\n",
    "        tail_unpacked = zlib.decompress(contents[tail_pos:])\n",
    "        self.num_of_chars_of_word = [i for i in tail_unpacked[:dicts_pos]]\n",
    "        self.dicts = tail_unpacked[dicts_pos:].decode('utf-16')\n",
    "        word_idx = [0]\n",
    "        for i in self.num_of_chars_of_word[:-1]:\n",
    "            word_idx.append(word_idx[-1]+i)\n",
    "        self.word_idx = word_idx\n",
    "        self.body = contents[0x28+0x18:tail_pos]"
   ]
  },
  {
   "cell_type": "code",
   "execution_count": 327,
   "metadata": {
    "scrolled": true
   },
   "outputs": [],
   "source": [
    "pf1 = PFile('/tmp/b/offline/160/160.p')\n",
    "pf1 = PFile('/tmp/b/offline/289/289.p')\n",
    "pf1.dicts[:100], pf1.num_of_chars_of_word[:10]\n",
    "base_x = pf1.base_x\n",
    "base_y = pf1.base_y"
   ]
  },
  {
   "cell_type": "code",
   "execution_count": 293,
   "metadata": {},
   "outputs": [
    {
     "data": {
      "text/plain": [
       "(13531890, 3646900)"
      ]
     },
     "execution_count": 293,
     "metadata": {},
     "output_type": "execute_result"
    }
   ],
   "source": [
    "pf1.a1_24+0x12b13, pf1.a1_28+0x12bbe"
   ]
  },
  {
   "cell_type": "code",
   "execution_count": 252,
   "metadata": {},
   "outputs": [
    {
     "data": {
      "text/plain": [
       "'37a5b4'"
      ]
     },
     "execution_count": 252,
     "metadata": {},
     "output_type": "execute_result"
    }
   ],
   "source": [
    "'%x'%(3570166+0x12bbe)"
   ]
  },
  {
   "cell_type": "code",
   "execution_count": 36,
   "metadata": {},
   "outputs": [
    {
     "data": {
      "text/plain": [
       "'龙茗路'"
      ]
     },
     "execution_count": 36,
     "metadata": {},
     "output_type": "execute_result"
    }
   ],
   "source": [
    "l = len(pf1.num_of_chars_of_word)\n",
    "tt = [0]\n",
    "for i in pf1.num_of_chars_of_word[:-1]:\n",
    "    tt.append(tt[-1]+i)\n",
    "len(tt)\n",
    "# tt[-10:]\n",
    "# len(pf1.dicts)\n",
    "# pos = tt[0x1b5]\n",
    "# pf1.dicts[pos:pos+5]\n",
    "idx = 0x1cc\n",
    "pf1.dicts[pf1.word_idx[idx]:pf1.word_idx[idx]+pf1.num_of_chars_of_word[idx]]"
   ]
  },
  {
   "cell_type": "code",
   "execution_count": 37,
   "metadata": {},
   "outputs": [
    {
     "data": {
      "text/plain": [
       "0.016353783263085994"
      ]
     },
     "execution_count": 37,
     "metadata": {},
     "output_type": "execute_result"
    }
   ],
   "source": [
    "187061/11438393"
   ]
  },
  {
   "cell_type": "code",
   "execution_count": 40,
   "metadata": {
    "scrolled": true
   },
   "outputs": [
    {
     "data": {
      "text/plain": [
       "'47 47 41 BF 0B 42 88 0B 4A 0E 8E BC C4 5A 4E 01 78 20 17 03 2B 98 CE F0 1A 1A 08 4B DD 47 47 2B 42 88 0B 4A 0E 8E 0A BE 33 4C 01 48 E5 84 F1 ED 63 6C E2 16 1A 04 80 53 18 0E 4A 0E 8E 5D C2 B6 5B 01 18 68 4F 35 C6 FB EF DA 19 1A 07 41 B2 3D 02 42 88 0B 4A 0E 8E E7 B9 B2 49 01 3C 44 26 56 BE 41 DD C3 17 1A 05 42 88 0B 6C 60 4A 0E 8E 1E BC 48 4A 01 1E 68 9B AD 47 12 91 BA 19 1A 07 47 46 41 1A 76 8B 0B 4A 0E 8E C0 C7 BB 47 01 34 02 C6 E0 C1 AB E4 B7 14 1A 02 68 1C 4A 0E 8E 19 C9 A1 50 01 15 8C D4 45 E4 25 FB B5 19 1A 07 6F 33 48 1B 42 88 0B 4A 0E 8E E0 BF EF 4B 01 42 B2 60 F0 BE 09 BF A1 1B 1A 09'"
      ]
     },
     "execution_count": 40,
     "metadata": {},
     "output_type": "execute_result"
    }
   ],
   "source": [
    "hexdump.dump(contents[300000:300000+200])"
   ]
  },
  {
   "cell_type": "code",
   "execution_count": 337,
   "metadata": {},
   "outputs": [
    {
     "data": {
      "text/plain": [
       "'021-65660466   '"
      ]
     },
     "execution_count": 337,
     "metadata": {},
     "output_type": "execute_result"
    }
   ],
   "source": [
    "b1 = b'\\x41\\xb5\\x40\\xf3\\x3a\\x41\\x28'\n",
    "b2 = b'A\\xb5Q\\xdd\\x01\\x07@YEq\\x02\\x08'\n",
    "# 10 4C 69 07 06 29 21 08 32 0C\n",
    "b1 = b'\\x10\\x4c\\x69\\x07\\x06\\x29\\x21\\x08\\x32\\x0c'\n",
    "# b1 = b'\\x41\\xb5'\n",
    "len(b1)\n",
    "def decode_idx(raw):\n",
    "    ret = []\n",
    "    while True:\n",
    "        head, raw = raw[0], raw[1:]\n",
    "        high = head >> 6\n",
    "        low = head & 0x3f\n",
    "        for i in range(high):\n",
    "            t, raw = raw[0], raw[1:]\n",
    "            low = (low << 8) + t\n",
    "        ret.append(low)\n",
    "        if not raw:\n",
    "            return ret\n",
    "\n",
    "def idx_2_str(ppf, idx):\n",
    "    ret = ''\n",
    "    for i in idx:\n",
    "        ret += pf.dicts[pf.word_idx[i]:pf.word_idx[i]+pf.num_of_chars_of_word[i]]\n",
    "    return ret\n",
    "\n",
    "def decode_phone(raw):\n",
    "    s_map = ['-','(',')',' ']\n",
    "    ret = ''\n",
    "#     l = raw[0]\n",
    "    for i in raw:\n",
    "        if i < 252:\n",
    "            ret += '%d'%i\n",
    "        else:\n",
    "            ret += s_map[i & 3]\n",
    "#         if len(ret) == l:\n",
    "    return ret\n",
    "\n",
    "def decode_hex(raw):\n",
    "    if raw[0] != ' ':\n",
    "        raw = ' '+raw\n",
    "    if raw[-1] == ' ':\n",
    "        raw = raw[:-1]\n",
    "    raw = \"b'\"+raw.replace(' ', '\\\\x')+\"'\"\n",
    "    return eval(raw)\n",
    "\n",
    "def trunks(raw):\n",
    "    ret = []\n",
    "    while True:\n",
    "        l = raw[0]\n",
    "        if len(raw) < l+1:\n",
    "            return ret\n",
    "        ret.append(raw[:l+1])\n",
    "        raw = raw[l+1:]\n",
    "    \n",
    "def func_1a(raw):\n",
    "    return idx_2_str(pf, decode_idx(raw))\n",
    "\n",
    "def func_32(raw):\n",
    "    return idx_2_str(pf, decode_idx(raw))\n",
    "\n",
    "def func_3a(raw):\n",
    "    return decode_phone(raw)\n",
    "\n",
    "def n_int(raw):\n",
    "    ret = 0\n",
    "    for i in range(len(raw)-1, -1, -1):\n",
    "        ret = (ret << 8) + raw[i]\n",
    "    return ret\n",
    "\n",
    "def func_4a(raw):\n",
    "    nx, ny, nn = raw[0]&3, (raw[0]>>2)&3, (raw[0]>>4)&3\n",
    "    dx, dy, raw = n_int(raw[1:1+nx]), n_int(raw[1+nx:1+nx+ny]), raw[1+nx+ny:]\n",
    "#     assert(len(raw) == 9)\n",
    "    return [pf.base_x+dx, pf.base_y+dy, hexdump.dump(raw)]\n",
    "\n",
    "decoders = {0x1a:func_1a, 0x32:func_32, 0x3a:func_3a, 0x4a:func_4a}\n",
    "\n",
    "base_x = 0\n",
    "base_y = 0\n",
    "\n",
    "def decode_trunk(raw):\n",
    "    ret = {}\n",
    "    while True:\n",
    "        tag, l = raw[0], raw[1]\n",
    "        content, raw = raw[2:2+l],raw[2+l:]\n",
    "        ret['%X'%tag] = decoders[tag](content)\n",
    "        if not raw:\n",
    "            return ret\n",
    "\n",
    "def dump_file(file_p):\n",
    "    global pf\n",
    "    pf = PFile(file_p)\n",
    "    t = pf.body\n",
    "#     t = contents[0x28+0x18:11300]\n",
    "    p = 0\n",
    "    f = open(file_p+'.txt', 'w')\n",
    "    while True:\n",
    "        s = t[p]\n",
    "        trunk = decode_trunk(t[p+1:p+1+s])\n",
    "        print(trunk, file=f)\n",
    "        p = p+1+s\n",
    "        if p >= len(t):\n",
    "            break\n",
    "    f.close\n",
    "\n",
    "pf = pf1\n",
    "ph = decode_hex('00 15 FC 41 42 00 2E 06 FF FF FF')\n",
    "\n",
    "cc = decode_idx(b1)\n",
    "idx_2_str(pf1, cc)\n",
    "\n",
    "decode_phone(ph)"
   ]
  },
  {
   "cell_type": "code",
   "execution_count": 339,
   "metadata": {
    "scrolled": false
   },
   "outputs": [],
   "source": [
    "dump_file('/tmp/131.p_svc')"
   ]
  },
  {
   "cell_type": "code",
   "execution_count": 336,
   "metadata": {},
   "outputs": [
    {
     "name": "stdout",
     "output_type": "stream",
     "text": [
      "> \u001b[0;32m<ipython-input-334-f0ef7923ae09>\u001b[0m(73)\u001b[0;36mfunc_4a\u001b[0;34m()\u001b[0m\n",
      "\u001b[0;32m     71 \u001b[0;31m    \u001b[0mnx\u001b[0m\u001b[0;34m,\u001b[0m \u001b[0mny\u001b[0m\u001b[0;34m,\u001b[0m \u001b[0mnn\u001b[0m \u001b[0;34m=\u001b[0m \u001b[0mraw\u001b[0m\u001b[0;34m[\u001b[0m\u001b[0;36m0\u001b[0m\u001b[0;34m]\u001b[0m\u001b[0;34m&\u001b[0m\u001b[0;36m3\u001b[0m\u001b[0;34m,\u001b[0m \u001b[0;34m(\u001b[0m\u001b[0mraw\u001b[0m\u001b[0;34m[\u001b[0m\u001b[0;36m0\u001b[0m\u001b[0;34m]\u001b[0m\u001b[0;34m>>\u001b[0m\u001b[0;36m2\u001b[0m\u001b[0;34m)\u001b[0m\u001b[0;34m&\u001b[0m\u001b[0;36m3\u001b[0m\u001b[0;34m,\u001b[0m \u001b[0;34m(\u001b[0m\u001b[0mraw\u001b[0m\u001b[0;34m[\u001b[0m\u001b[0;36m0\u001b[0m\u001b[0;34m]\u001b[0m\u001b[0;34m>>\u001b[0m\u001b[0;36m4\u001b[0m\u001b[0;34m)\u001b[0m\u001b[0;34m&\u001b[0m\u001b[0;36m3\u001b[0m\u001b[0;34m\u001b[0m\u001b[0m\n",
      "\u001b[0m\u001b[0;32m     72 \u001b[0;31m    \u001b[0mdx\u001b[0m\u001b[0;34m,\u001b[0m \u001b[0mdy\u001b[0m\u001b[0;34m,\u001b[0m \u001b[0mraw\u001b[0m \u001b[0;34m=\u001b[0m \u001b[0mn_int\u001b[0m\u001b[0;34m(\u001b[0m\u001b[0mraw\u001b[0m\u001b[0;34m[\u001b[0m\u001b[0;36m1\u001b[0m\u001b[0;34m:\u001b[0m\u001b[0;36m1\u001b[0m\u001b[0;34m+\u001b[0m\u001b[0mnx\u001b[0m\u001b[0;34m]\u001b[0m\u001b[0;34m)\u001b[0m\u001b[0;34m,\u001b[0m \u001b[0mn_int\u001b[0m\u001b[0;34m(\u001b[0m\u001b[0mraw\u001b[0m\u001b[0;34m[\u001b[0m\u001b[0;36m1\u001b[0m\u001b[0;34m+\u001b[0m\u001b[0mnx\u001b[0m\u001b[0;34m:\u001b[0m\u001b[0;36m1\u001b[0m\u001b[0;34m+\u001b[0m\u001b[0mnx\u001b[0m\u001b[0;34m+\u001b[0m\u001b[0mny\u001b[0m\u001b[0;34m]\u001b[0m\u001b[0;34m)\u001b[0m\u001b[0;34m,\u001b[0m \u001b[0mraw\u001b[0m\u001b[0;34m[\u001b[0m\u001b[0;36m1\u001b[0m\u001b[0;34m+\u001b[0m\u001b[0mnx\u001b[0m\u001b[0;34m+\u001b[0m\u001b[0mny\u001b[0m\u001b[0;34m:\u001b[0m\u001b[0;34m]\u001b[0m\u001b[0;34m\u001b[0m\u001b[0m\n",
      "\u001b[0m\u001b[0;32m---> 73 \u001b[0;31m    \u001b[0;32massert\u001b[0m\u001b[0;34m(\u001b[0m\u001b[0mlen\u001b[0m\u001b[0;34m(\u001b[0m\u001b[0mraw\u001b[0m\u001b[0;34m)\u001b[0m \u001b[0;34m==\u001b[0m \u001b[0;36m9\u001b[0m\u001b[0;34m)\u001b[0m\u001b[0;34m\u001b[0m\u001b[0m\n",
      "\u001b[0m\u001b[0;32m     74 \u001b[0;31m    \u001b[0;32mreturn\u001b[0m \u001b[0;34m[\u001b[0m\u001b[0mpf\u001b[0m\u001b[0;34m.\u001b[0m\u001b[0mbase_x\u001b[0m\u001b[0;34m+\u001b[0m\u001b[0mdx\u001b[0m\u001b[0;34m,\u001b[0m \u001b[0mpf\u001b[0m\u001b[0;34m.\u001b[0m\u001b[0mbase_y\u001b[0m\u001b[0;34m+\u001b[0m\u001b[0mdy\u001b[0m\u001b[0;34m,\u001b[0m \u001b[0mhexdump\u001b[0m\u001b[0;34m.\u001b[0m\u001b[0mdump\u001b[0m\u001b[0;34m(\u001b[0m\u001b[0mraw\u001b[0m\u001b[0;34m)\u001b[0m\u001b[0;34m]\u001b[0m\u001b[0;34m\u001b[0m\u001b[0m\n",
      "\u001b[0m\u001b[0;32m     75 \u001b[0;31m\u001b[0;34m\u001b[0m\u001b[0m\n",
      "\u001b[0m\n",
      "ipdb> raw\n",
      "b'AT\\xae\\xa7\\xcapZ\\x0e'\n",
      "ipdb> len(raw)\n",
      "8\n",
      "ipdb> dx\n",
      "46313\n",
      "ipdb> nx\n",
      "2\n",
      "ipdb> ny\n",
      "2\n",
      "ipdb> nn\n",
      "0\n",
      "ipdb> quit\n"
     ]
    }
   ],
   "source": [
    "%debug"
   ]
  },
  {
   "cell_type": "code",
   "execution_count": 328,
   "metadata": {},
   "outputs": [
    {
     "name": "stdout",
     "output_type": "stream",
     "text": [
      "{'1A': '平凉路第三小学', '32': '上海市杨浦区平凉路2400号(近内江路)', '3A': '021-65660466   ', '4A': [13531890, 3646900, '11 FF FF FF FF 8E 93 AC F7']}\n"
     ]
    }
   ],
   "source": [
    "yy = decode_trunk(decode_hex('1A 07 41 B5 40 F3 3A 41 28 32 0E 00 1B 41 B5 51 DD 01 07 40 59 45 71 02 08 3A 0B 00 15 FC 41 42 00 2E 06 FF FF FF 4A 10 1F 13 2B 01 BE 2B 01 11 FF FF FF FF 8E 93 AC F7'))\n",
    "# f = open('/tmp/289.txt', 'w')\n",
    "# print(yy, file=f)\n",
    "print(yy)\n",
    "# f.close()\n",
    "# dump_file()"
   ]
  },
  {
   "cell_type": "code",
   "execution_count": 264,
   "metadata": {},
   "outputs": [
    {
     "data": {
      "text/plain": [
       "('周家村', '2')"
      ]
     },
     "execution_count": 264,
     "metadata": {},
     "output_type": "execute_result"
    }
   ],
   "source": [
    "uu = decode_hex('5E 0F')\n",
    "cc = decode_idx(uu)\n",
    "idx_2_str(pf1, cc), '%x'%len(uu)"
   ]
  },
  {
   "cell_type": "code",
   "execution_count": 340,
   "metadata": {},
   "outputs": [
    {
     "data": {
      "text/plain": [
       "b'^\\x0f'"
      ]
     },
     "execution_count": 340,
     "metadata": {},
     "output_type": "execute_result"
    }
   ],
   "source": [
    "uu"
   ]
  },
  {
   "cell_type": "code",
   "execution_count": 259,
   "metadata": {},
   "outputs": [
    {
     "data": {
      "text/plain": [
       "'(021)35327800'"
      ]
     },
     "execution_count": 259,
     "metadata": {},
     "output_type": "execute_result"
    }
   ],
   "source": [
    "ph = decode_hex('FD 00 15 FE 23 20 4E 00 00')\n",
    "decode_phone(ph)"
   ]
  },
  {
   "cell_type": "code",
   "execution_count": 197,
   "metadata": {},
   "outputs": [
    {
     "data": {
      "text/plain": [
       "'33'"
      ]
     },
     "execution_count": 197,
     "metadata": {},
     "output_type": "execute_result"
    }
   ],
   "source": [
    "def sz(raw):\n",
    "    raw = raw.replace('|', '')\n",
    "    raw = raw.replace(' ', '')\n",
    "    return len(raw)//2\n",
    "\n",
    "p = sz('4A 10 1F D6 14 01 8C 18 01 11 E5 EF 9C 71 48 6F 0B 38 30 1A     0B 43 08 28 40 98 07 45 AF 4E 7B 08||          32 11 00   0D 41 15 02 50 C5 01 42 42 47 25 40 F9 19 43 19||                                                   ')\n",
    "'%x' % p"
   ]
  },
  {
   "cell_type": "code",
   "execution_count": 198,
   "metadata": {},
   "outputs": [
    {
     "data": {
      "text/plain": [
       "56"
      ]
     },
     "execution_count": 198,
     "metadata": {},
     "output_type": "execute_result"
    }
   ],
   "source": []
  },
  {
   "cell_type": "code",
   "execution_count": 204,
   "metadata": {},
   "outputs": [
    {
     "name": "stdout",
     "output_type": "stream",
     "text": [
      "==> 38 1A 07 41 B5 40 F3 3A 41 28 32 0E 00 1B 41 B5 51 DD 01 07 40 59 45 71 02 08 3A 0B 00 15 FC 41 42 00 2E 06 FF FF FF 4A 10 1F 13 2B 01 BE 2B 01 11 FF FF FF FF 8E 93 AC F7\n",
      "==> 35 1A 08 10 4C 69 07 06 29 21 08 32 0C 00 20 41 4B 2B 43 90 01 06 29 40 AF 3A 09 FD 00 15 FE 3F 5A 00 45 09 4A 10 1F 67 0B 01 BF 12 01 11 85 DC FA 66 2E B8 49 24\n",
      "==> 29 1A 09 46 81 80 5E 60 43 5E 44 3A 32 0B 5C 4E 47 EF 05 10 41 6E 41 23 01 4A 0F 1B 2C 20 01 65 E3 11 63 F5 1D 95 D2 9F 6C 04\n",
      "==> 25 1A 04 4B 82 3A 0E 32 0C 4B 82 02 44 FC 05 10 41 21 40 5C 01 4A 0F 1E 10 F7 D0 22 01 11 FF FF FF FF 98 33 AD F8\n",
      "==> 31 1A 0A 06 40 93 45 BC 40 5B 04 49 FC 32 12 45 BC 2A 02 48 9B 01 06 40 93 07 45 BC 40 5B 08 49 FC 4A 0F 1E 3B F4 A0 08 01 11 8D 1A 51 34 A3 FA C1 A1\n",
      "==> 26 1A 08 06 40 E4 41 E9 41 8B 30 32 08 40 7C 41 B7 02 51 8A 01 4A 10 1F 1E 28 01 65 07 01 11 ED 15 E2 83 36 91 2A 12\n",
      "==> 37 1A 0C 7B 85 5A 72 5F 01 07 4B E7 2E 21 08 32 0E 00 20 41 1F 45 94 01 40 4C 0A 41 C5 40 7E 3A 05 9C BB 41 5F 03 4A 10 1F 5C 0E 01 8C 18 01 11 96 00 08 FE 1C B1 E2 89\n",
      "==> 2D 1A 0B 45 42 49 3B 56 99 07 45 4F 21 08 32 0C 00 03 40 E4 24 40 B8 01 45 4F 51 96 4A 10 1F D6 14 01 8C 18 01 11 E5 EF 9C 71 48 6F 0B 38\n",
      "==> 30 1A 0B 43 08 28 40 98 07 45 AF 4E 7B 08 32 11 00 0D 41 15 02 50 C5 01 42 42 47 25 40 F9 19 43 19 4A 0E 1A 6B E9 36 E3 11 8F 53 50 33 B9 6C EB 0B\n",
      "==> 2B 1A 09 46 71 41 7D 07 4C CA 02 08 32 06 4C CA 02 40 D3 01 3A 06 00 D8 2D 00 38 16 4A 0E 1A 04 FF 94 B5 11 13 7F 6C D8 3C 88 41 55\n",
      "==> 28 1A 0D 46 0F 2F 40 8B 47 8F 40 42 02 07 3C 08 32 05 00 03 46 0F 2F 4A 10 1F 6C 34 01 88 1B 01 11 10 16 F6 8D 91 4C 29 2A\n",
      "==> 2C 1A 03 5D EB 2E 32 08 00 18 46 DA 2B 42 4A 01 3A 09 FD 00 15 FE 3F 35 00 1E 03 4A 10 1F E1 06 01 70 1C 01 11 FF FF FF FF BD 81 A5 F4\n",
      "==> 2B 1A 0C 42 97 50 2A 46 02 51 05 56 9E 40 9B 32 0A 40 7F 14 4B DA 04 40 44 40 90 4A 0F 1B AE 2B 01 4F FF 11 B1 63 54 C2 28 3A E2 AC\n",
      "==> 2C 1A 08 4D 7B 56 8C 4E 7E 42 3C 32 05 52 52 4B A7 01 3A 08 FD 00 15 FE 27 35 49 60 4A 0F 1E 97 C6 54 1B 01 11 57 AB AF 2F 23 0C 2A F9\n",
      "==> 25 1A 08 46 F3 40 51 40 80 40 89 32 08 41 C3 42 58 0B 66 C9 01 4A 0F 1B 69 3F 01 7E E2 11 50 1F F3 43 25 DA 0C 1D\n",
      "==> 35 1A 06 44 6B 76 D5 13 0C 32 0F 00 03 56 07 02 46 C4 01 41 01 0F 6A C5 04 39 3A 08 FD 00 15 FE 26 2A 2E 44 4A 10 1F FA 4C 01 82 1D 01 11 4B FC 21 1B AD E8 AB 42\n",
      "==> 25 1A 0A 44 33 40 8B 53 A6 02 07 3C 08 32 05 00 20 53 A6 02 4A 10 1F BF 0F 01 45 1A 01 11 E3 15 DB 26 23 66 FF 8C\n"
     ]
    }
   ],
   "source": [
    "for i in trunks(contents[pos-3:pos+800]):\n",
    "    print('==>',hexdump.dump(i))"
   ]
  },
  {
   "cell_type": "code",
   "execution_count": 263,
   "metadata": {
    "scrolled": false
   },
   "outputs": [
    {
     "data": {
      "text/plain": [
       "'13 1A 02 5E 0F 4A 0D 8A E9 B4 4E 0B 41 54 AE A7 CA 70 5A 0E 16 1A 05 43 82 42 26 02 4A 0D 8A BA B2 25 0B C7 0D BB 22 93 3D D6 EE 1B 1A 0A 80 47 95 43 84 40 6E 01 40 42 4A 0D 8A B2 AC BD 24 BE 41 35 B9 3E 6B 3B 18 15 1A 04 80 4B 24 02 4A 0D 8A 39 B1 FB 1C 0F 7B 11 FA 45 9B 7A 0D 17 1A 06 53 18 40 BF 47 12 4A 0D 8A 33 B0 A1 24 67 5F AD 09 5C E8 AC 6D 17 1A 06 40 51 45 33 4A E4 4A 0D 8A AB B2 B6 20 A7 8D DC F3 B5 AF 07 4D 15 1A 04 53 18 44 A3 4A 0D 8A 13 AB 2E 24 8E E9 AB C2 A2 5D 78 44 17 1A 06 63 0C 02 4D DA 02 4A 0D 8A 57 B4 D7 16 17 8F 7A A2 6F 55 AD 1A 17 1A 06 5F AE 42 38 41 1B 4A 0D 8A 14'"
      ]
     },
     "execution_count": 263,
     "metadata": {},
     "output_type": "execute_result"
    }
   ],
   "source": [
    "b1 = b'\\x41\\xb5\\x40\\xf3\\x3a\\x41\\x28'\n",
    "# pos = contents.find(b1)\n",
    "pos = 0x28+0x18\n",
    "hexdump.dump(contents[pos:pos+200])"
   ]
  },
  {
   "cell_type": "code",
   "execution_count": null,
   "metadata": {},
   "outputs": [],
   "source": []
  },
  {
   "cell_type": "code",
   "execution_count": 70,
   "metadata": {},
   "outputs": [
    {
     "data": {
      "text/plain": [
       "12"
      ]
     },
     "execution_count": 70,
     "metadata": {},
     "output_type": "execute_result"
    }
   ],
   "source": [
    "pos\n",
    "hexdump.dump(contents[pos+11:pos+24])\n",
    "contents[pos+11:pos+24]\n",
    "len(b2)"
   ]
  },
  {
   "cell_type": "code",
   "execution_count": 75,
   "metadata": {},
   "outputs": [
    {
     "data": {
      "text/plain": [
       "(252, 252)"
      ]
     },
     "execution_count": 75,
     "metadata": {},
     "output_type": "execute_result"
    }
   ],
   "source": [
    "b'\\xfc\\xfc'[0]&0xfc, 0xfc"
   ]
  },
  {
   "cell_type": "code",
   "execution_count": 287,
   "metadata": {},
   "outputs": [],
   "source": [
    "pf1.num_of_chars_of_word[:10]\n",
    "f = open('/tmp/ss.txt', 'w')\n",
    "t = pf1.dicts\n",
    "for i in pf1.num_of_chars_of_word:\n",
    "    print(t[:i], file=f)\n",
    "    t = t[i:]\n",
    "f.close()"
   ]
  },
  {
   "cell_type": "code",
   "execution_count": 292,
   "metadata": {},
   "outputs": [
    {
     "name": "stdout",
     "output_type": "stream",
     "text": [
      "[121.56392979119173, 31.287606075269164] [121.55113779101899, 31.274927206583378] [121.56179512381787, 31.279104309626227] [121.55328533458213, 31.283393477173774] [121.546868354992, 31.277062419754294] [121.56818539852982, 31.285463190505318]\n"
     ]
    }
   ],
   "source": [
    "# -*- coding: utf-8 -*-\n",
    "import json\n",
    "import urllib\n",
    "import math\n",
    "\n",
    "x_pi = 3.14159265358979324 * 3000.0 / 180.0\n",
    "pi = 3.1415926535897932384626  # π\n",
    "a = 6378245.0  # 长半轴\n",
    "ee = 0.00669342162296594323  # 偏心率平方\n",
    "\n",
    "\n",
    "class Geocoding:\n",
    "    def __init__(self, api_key):\n",
    "        self.api_key = api_key\n",
    "\n",
    "    def geocode(self, address):\n",
    "        \"\"\"\n",
    "        利用高德geocoding服务解析地址获取位置坐标\n",
    "        :param address:需要解析的地址\n",
    "        :return:\n",
    "        \"\"\"\n",
    "        geocoding = {'s': 'rsv3',\n",
    "                     'key': self.api_key,\n",
    "                     'city': '全国',\n",
    "                     'address': address}\n",
    "        geocoding = urllib.urlencode(geocoding)\n",
    "        ret = urllib.urlopen(\"%s?%s\" % (\"http://restapi.amap.com/v3/geocode/geo\", geocoding))\n",
    "\n",
    "        if ret.getcode() == 200:\n",
    "            res = ret.read()\n",
    "            json_obj = json.loads(res)\n",
    "            if json_obj['status'] == '1' and int(json_obj['count']) >= 1:\n",
    "                geocodes = json_obj['geocodes'][0]\n",
    "                lng = float(geocodes.get('location').split(',')[0])\n",
    "                lat = float(geocodes.get('location').split(',')[1])\n",
    "                return [lng, lat]\n",
    "            else:\n",
    "                return None\n",
    "        else:\n",
    "            return None\n",
    "\n",
    "\n",
    "def gcj02_to_bd09(lng, lat):\n",
    "    \"\"\"\n",
    "    火星坐标系(GCJ-02)转百度坐标系(BD-09)\n",
    "    谷歌、高德——>百度\n",
    "    :param lng:火星坐标经度\n",
    "    :param lat:火星坐标纬度\n",
    "    :return:\n",
    "    \"\"\"\n",
    "    z = math.sqrt(lng * lng + lat * lat) + 0.00002 * math.sin(lat * x_pi)\n",
    "    theta = math.atan2(lat, lng) + 0.000003 * math.cos(lng * x_pi)\n",
    "    bd_lng = z * math.cos(theta) + 0.0065\n",
    "    bd_lat = z * math.sin(theta) + 0.006\n",
    "    return [bd_lng, bd_lat]\n",
    "\n",
    "\n",
    "def bd09_to_gcj02(bd_lon, bd_lat):\n",
    "    \"\"\"\n",
    "    百度坐标系(BD-09)转火星坐标系(GCJ-02)\n",
    "    百度——>谷歌、高德\n",
    "    :param bd_lat:百度坐标纬度\n",
    "    :param bd_lon:百度坐标经度\n",
    "    :return:转换后的坐标列表形式\n",
    "    \"\"\"\n",
    "    x = bd_lon - 0.0065\n",
    "    y = bd_lat - 0.006\n",
    "    z = math.sqrt(x * x + y * y) - 0.00002 * math.sin(y * x_pi)\n",
    "    theta = math.atan2(y, x) - 0.000003 * math.cos(x * x_pi)\n",
    "    gg_lng = z * math.cos(theta)\n",
    "    gg_lat = z * math.sin(theta)\n",
    "    return [gg_lng, gg_lat]\n",
    "\n",
    "\n",
    "def wgs84_to_gcj02(lng, lat):\n",
    "    \"\"\"\n",
    "    WGS84转GCJ02(火星坐标系)\n",
    "    :param lng:WGS84坐标系的经度\n",
    "    :param lat:WGS84坐标系的纬度\n",
    "    :return:\n",
    "    \"\"\"\n",
    "    if out_of_china(lng, lat):  # 判断是否在国内\n",
    "        return [lng, lat]\n",
    "    dlat = _transformlat(lng - 105.0, lat - 35.0)\n",
    "    dlng = _transformlng(lng - 105.0, lat - 35.0)\n",
    "    radlat = lat / 180.0 * pi\n",
    "    magic = math.sin(radlat)\n",
    "    magic = 1 - ee * magic * magic\n",
    "    sqrtmagic = math.sqrt(magic)\n",
    "    dlat = (dlat * 180.0) / ((a * (1 - ee)) / (magic * sqrtmagic) * pi)\n",
    "    dlng = (dlng * 180.0) / (a / sqrtmagic * math.cos(radlat) * pi)\n",
    "    mglat = lat + dlat\n",
    "    mglng = lng + dlng\n",
    "    return [mglng, mglat]\n",
    "\n",
    "\n",
    "def gcj02_to_wgs84(lng, lat):\n",
    "    \"\"\"\n",
    "    GCJ02(火星坐标系)转GPS84\n",
    "    :param lng:火星坐标系的经度\n",
    "    :param lat:火星坐标系纬度\n",
    "    :return:\n",
    "    \"\"\"\n",
    "    if out_of_china(lng, lat):\n",
    "        return [lng, lat]\n",
    "    dlat = _transformlat(lng - 105.0, lat - 35.0)\n",
    "    dlng = _transformlng(lng - 105.0, lat - 35.0)\n",
    "    radlat = lat / 180.0 * pi\n",
    "    magic = math.sin(radlat)\n",
    "    magic = 1 - ee * magic * magic\n",
    "    sqrtmagic = math.sqrt(magic)\n",
    "    dlat = (dlat * 180.0) / ((a * (1 - ee)) / (magic * sqrtmagic) * pi)\n",
    "    dlng = (dlng * 180.0) / (a / sqrtmagic * math.cos(radlat) * pi)\n",
    "    mglat = lat + dlat\n",
    "    mglng = lng + dlng\n",
    "    return [lng * 2 - mglng, lat * 2 - mglat]\n",
    "\n",
    "\n",
    "def bd09_to_wgs84(bd_lon, bd_lat):\n",
    "    lon, lat = bd09_to_gcj02(bd_lon, bd_lat)\n",
    "    return gcj02_to_wgs84(lon, lat)\n",
    "\n",
    "\n",
    "def wgs84_to_bd09(lon, lat):\n",
    "    lon, lat = wgs84_to_gcj02(lon, lat)\n",
    "    return gcj02_to_bd09(lon, lat)\n",
    "\n",
    "\n",
    "def _transformlat(lng, lat):\n",
    "    ret = -100.0 + 2.0 * lng + 3.0 * lat + 0.2 * lat * lat + \\\n",
    "          0.1 * lng * lat + 0.2 * math.sqrt(math.fabs(lng))\n",
    "    ret += (20.0 * math.sin(6.0 * lng * pi) + 20.0 *\n",
    "            math.sin(2.0 * lng * pi)) * 2.0 / 3.0\n",
    "    ret += (20.0 * math.sin(lat * pi) + 40.0 *\n",
    "            math.sin(lat / 3.0 * pi)) * 2.0 / 3.0\n",
    "    ret += (160.0 * math.sin(lat / 12.0 * pi) + 320 *\n",
    "            math.sin(lat * pi / 30.0)) * 2.0 / 3.0\n",
    "    return ret\n",
    "\n",
    "\n",
    "def _transformlng(lng, lat):\n",
    "    ret = 300.0 + lng + 2.0 * lat + 0.1 * lng * lng + \\\n",
    "          0.1 * lng * lat + 0.1 * math.sqrt(math.fabs(lng))\n",
    "    ret += (20.0 * math.sin(6.0 * lng * pi) + 20.0 *\n",
    "            math.sin(2.0 * lng * pi)) * 2.0 / 3.0\n",
    "    ret += (20.0 * math.sin(lng * pi) + 40.0 *\n",
    "            math.sin(lng / 3.0 * pi)) * 2.0 / 3.0\n",
    "    ret += (150.0 * math.sin(lng / 12.0 * pi) + 300.0 *\n",
    "            math.sin(lng / 30.0 * pi)) * 2.0 / 3.0\n",
    "    return ret\n",
    "\n",
    "\n",
    "def out_of_china(lng, lat):\n",
    "    \"\"\"\n",
    "    判断是否在国内，不在国内不做偏移\n",
    "    :param lng:\n",
    "    :param lat:\n",
    "    :return:\n",
    "    \"\"\"\n",
    "    return not (lng > 73.66 and lng < 135.05 and lat > 3.86 and lat < 53.55)\n",
    "\n",
    "\n",
    "if __name__ == '__main__':\n",
    "    lng = 121.5575402292\n",
    "    lat = 31.2812488934\n",
    "    result1 = gcj02_to_bd09(lng, lat)\n",
    "    result2 = bd09_to_gcj02(lng, lat)\n",
    "    result3 = wgs84_to_gcj02(lng, lat)\n",
    "    result4 = gcj02_to_wgs84(lng, lat)\n",
    "    result5 = bd09_to_wgs84(lng, lat)\n",
    "    result6 = wgs84_to_bd09(lng, lat)\n",
    "\n",
    "#     g = Geocoding('API_KEY')  # 这里填写你的高德api的key\n",
    "#     result7 = g.geocode('北京市朝阳区朝阳公园')\n",
    "    print (result1, result2, result3, result4, result5, result6)"
   ]
  }
 ],
 "metadata": {
  "kernelspec": {
   "display_name": "Python 3",
   "language": "python",
   "name": "python3"
  },
  "language_info": {
   "codemirror_mode": {
    "name": "ipython",
    "version": 3
   },
   "file_extension": ".py",
   "mimetype": "text/x-python",
   "name": "python",
   "nbconvert_exporter": "python",
   "pygments_lexer": "ipython3",
   "version": "3.6.5"
  }
 },
 "nbformat": 4,
 "nbformat_minor": 2
}
